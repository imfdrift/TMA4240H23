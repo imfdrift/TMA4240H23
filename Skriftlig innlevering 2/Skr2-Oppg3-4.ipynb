{
 "cells": [
  {
   "cell_type": "markdown",
   "id": "1d2ee994-1593-49d5-a033-bad7f6c8fe14",
   "metadata": {},
   "source": [
    "# Skriftlig innlevering 2, Oppgave 3-4 (av 4)"
   ]
  },
  {
   "cell_type": "markdown",
   "id": "10a07168-a6c9-4dac-8bd0-3fe7e8e58a5d",
   "metadata": {},
   "source": [
    "## Oppgave 3"
   ]
  },
  {
   "cell_type": "markdown",
   "id": "9e7a8e22-c94a-411b-a8a5-21d399225d2d",
   "metadata": {},
   "source": [
    "Simultanfordelingen $f_{XY}(x,y)$ til to diskret fordelte stokastiske \n",
    "variabler $X$ og $Y$ er gitt ved følgende tabell.\n",
    "\n",
    "  |       | $y=0$ | $y=1$ | $y=2$ | $y=3$ |\n",
    "  |:-----:|:-----:|:-----:|:-----:|:-----:|\n",
    "  | $x=0$ | $\\frac{1}{18}$ | $\\frac{1}{6}$ | $\\frac{1}{18}$ | $\\frac{1}{18}$ |\n",
    "  | $x=1$ | $\\frac{1}{18}$ | $\\frac{1}{18}$ | $\\frac{1}{6}$ | $\\frac{1}{18}$ |\n",
    "  | $x=2$ | $\\frac{1}{18}$ | $\\frac{1}{18}$ | $\\frac{1}{18}$ | $\\frac{1}{6}$ |\n",
    "  \n",
    "\n",
    "  * Finn marginalfordelingen for $X$, dvs $f_X(x)$, og den betingede \n",
    "    fordelingen for $Y$ gitt $X$, dvs\n",
    "    $f_{Y|X}(y|x)$.\n",
    "  * Finn forventningsverdien for $X$, $E[X]$, og forventningsverdien \n",
    "    til $Y$, $E[Y]$.\n",
    "  * Er $X$ og $Y$ uavhengige stokastiske variabler? Begrunn svaret.\n"
   ]
  },
  {
   "cell_type": "markdown",
   "id": "2ac55077-8044-4d3c-8d63-0976220e49b9",
   "metadata": {},
   "source": [
    "## Oppgave 4"
   ]
  },
  {
   "cell_type": "markdown",
   "id": "d81d4bff-dd85-47c1-b957-51a7e80aac43",
   "metadata": {},
   "source": [
    "I denne oppgaven skal vi regne på tvunget yatzy, se spilleregler beskrevet på\n",
    "  https://no.wikipedia.org/wiki/Yatzy. For å forenkle situasjonen skal vi i denne\n",
    "  oppgaven ikke tillatte at man tar yatzy utenfor tur.\n",
    "\n",
    "  Vi starter med å kaste for enere. Man kaster\n",
    "  da fem terninger og tar vare på de terningene som viser et øye. De terningene som ikke viste\n",
    "  et øye kaster  man på nytt. Igjen tar man vare på de terningene som viser et øye, og kaster\n",
    "  de terningen som fremdeles ikke viste et øye en tredje gang. Man teller så opp hvor mange \n",
    "  terninger som endte opp med et øye, og dette er antall poeng vi får for enerne. \n",
    "\n",
    "  La oss nummerere de fem terningene fra terning 1 til terning 5, og la $A_i$ være hendelsen at vi ender\n",
    "  opp med et øye på terning nummer $i$. Definer så de stokastiske variablene $Y_1,\\ldots,Y_5$ ved\n",
    "  å sette $Y_i=1$ hvis hendelsen $A_i$ skjer og $Y_i=0$ ellers. La så den stokastiske variabelen\n",
    "  \\begin{align*}\n",
    "    X_1 = \\sum_{i=1}^5 Y_i\n",
    "  \\end{align*}\n",
    "  være antall terninger som ender opp med et øye.\n",
    "  "
   ]
  },
  {
   "cell_type": "markdown",
   "id": "06d01d8b-32c1-4baf-bbd7-98f54b5155e2",
   "metadata": {},
   "source": [
    "## Deloppgave a)"
   ]
  },
  {
   "cell_type": "markdown",
   "id": "68073b3d-fb28-47e8-b018-4192cbc618bf",
   "metadata": {},
   "source": [
    "* Hva er sannsynligheten for at vi ender opp med et øye på terning nummer $i$, $P(A_i)$?\n",
    "* Finn $E[Y_i]$ og $\\mbox{Var}[Y_i]$.\n",
    "* Finn også $E[X_1]$ og $\\mbox{Var}[X_1]$."
   ]
  },
  {
   "cell_type": "markdown",
   "id": "4d7c5aec-92d6-4ec2-948f-5f0d5798f15c",
   "metadata": {},
   "source": [
    "#### Her er deloppgave a) slutt."
   ]
  },
  {
   "cell_type": "markdown",
   "id": "2da13182-f482-402d-82fd-7dbc0632bcba",
   "metadata": {},
   "source": [
    "I neste runde kaster vi tilsvarende for toere, i tredje runde kaster vi for treere og så videre opp\n",
    "  til at vi kaster for seksere. La $X_2$ være <b>antall terninger</b> som ender opp med\n",
    "  to øyne når vi kaster for toere, la $X_3$ være <b>antall terninger</b> som ender opp med\n",
    "  tre øyne i runden hvor vi kaster for treere, og så tilsvarende videre opp til $X_6$. Antall\n",
    "  poeng man får i løpet av de seks første rundene av tvingen yatzy er dermed\n",
    "  \\begin{align*}\n",
    "  Z = \\sum_{k=1}^6 kX_k = X_1+2X_2+3X_3+4X_4+5X_5+6X_6.\n",
    "  \\end{align*}"
   ]
  },
  {
   "cell_type": "markdown",
   "id": "e6539e1c-ed1f-436d-8b5e-ec9889eb202f",
   "metadata": {},
   "source": [
    "## Deloppgave b)"
   ]
  },
  {
   "cell_type": "markdown",
   "id": "fd25007d-1e9e-400d-a1bf-85f9c362a2e8",
   "metadata": {},
   "source": [
    "* Forklar hvorfor $X_1, X_2,\\ldots,X_6$ må være uavhengige stokastiske variabler og at de alle må ha samme sannsynlighetsfordeling.\n",
    "* Finn forventingsverdi og varians til $Z$. Regn også ut standardavviket til $Z$."
   ]
  },
  {
   "cell_type": "markdown",
   "id": "b60a54f9-6bec-4a06-b43d-ab6b1fd74f85",
   "metadata": {},
   "source": [
    "#### Her er deloppgave b) slutt"
   ]
  },
  {
   "cell_type": "markdown",
   "id": "e84faea2-178c-4d97-ab60-b437cb322f01",
   "metadata": {},
   "source": [
    "Hvis man i løpet av de første seks rundene av yatzy får minst $42$ poeng får man bonus.\n",
    "  Over regnet du ut $E[Z]$ og $\\mbox{SD}[Z]$. Det å regne ut sannsynligheten for bonus, $P(Z\\geq 42)$,\n",
    "  er ikke like enkelt. Men ved hjelp av stokastisk simulering kan man ganske enkelt finne en\n",
    "  tilnærmet verdi for denne sannsynligheten."
   ]
  },
  {
   "cell_type": "markdown",
   "id": "d38ea7b8-f88b-4ee3-a6f9-a1f8a1568b9d",
   "metadata": {},
   "source": [
    "## Deloppgave c)"
   ]
  },
  {
   "cell_type": "markdown",
   "id": "dbb562f8-8bec-43ff-9970-34c57d53ec99",
   "metadata": {},
   "source": [
    "* Skriv en pythonfunksjon som simulerer en av de seks første rundene i yatzy og returnerer antall terninger som ender opp med det ønskede antall øyne.\n",
    "* Skriv en ny python-funksjon som ved å kalle den første python-funksjonen genererer $n$ realisasjoner av $Z$. Denne funksjonen må altså ha $n$ som input-parameter.\n",
    "* Benytt den siste python-funksjonen til å generere (for eksempel) $n=10\\ 000$ realisasjoner av $Z$ og lag et histogram av de genererte verdiene. Ut fra dette histogrammet, ser verdiene du fant for $E[Z]$ og $\\mbox{SD}[Z]$ riktige ut?\n",
    "* Benytt også de $n$ realisasjonene av $Z$ til å finne en tilnærmet verdi for $P(Z\\geq 42)$."
   ]
  },
  {
   "cell_type": "code",
   "execution_count": 1,
   "id": "1fbb2934-9645-4067-b9db-e8234fecb6d6",
   "metadata": {},
   "outputs": [],
   "source": [
    "# Her kan du skrive din pythonkode.\n"
   ]
  },
  {
   "cell_type": "markdown",
   "id": "20045cd4-1b86-4d85-a4bb-2b01cbdcf24f",
   "metadata": {},
   "source": [
    "## Fasit:\n",
    "* Oppgave 3: $E[X]=1, E[Y]=5/3$\n",
    "* Oppgave 4a): $0.421, 0.421, 0.244, 2.11, 1.22$\n",
    "* Oppgave 4b): $E[Z]=44.24, \\mbox{Var}[Z]=110.9, \\mbox{SD}[Z]=10.5$"
   ]
  }
 ],
 "metadata": {
  "kernelspec": {
   "display_name": "Python 3 (ipykernel)",
   "language": "python",
   "name": "python3"
  },
  "language_info": {
   "codemirror_mode": {
    "name": "ipython",
    "version": 3
   },
   "file_extension": ".py",
   "mimetype": "text/x-python",
   "name": "python",
   "nbconvert_exporter": "python",
   "pygments_lexer": "ipython3",
   "version": "3.9.12"
  }
 },
 "nbformat": 4,
 "nbformat_minor": 5
}
