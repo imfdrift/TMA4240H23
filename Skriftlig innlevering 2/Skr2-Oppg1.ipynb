{
 "cells": [
  {
   "cell_type": "markdown",
   "id": "153ce3a8-05d3-4b75-9bee-69a586a92e18",
   "metadata": {},
   "source": [
    "# Skriftlig innlevering 2, Oppgave 1 (av 4)"
   ]
  },
  {
   "cell_type": "markdown",
   "id": "2daddd15-fe81-4bd9-8625-46c0562ae2cb",
   "metadata": {},
   "source": [
    "## Oppgave 1 *"
   ]
  },
  {
   "cell_type": "markdown",
   "id": "20419b87-cfab-4a61-be73-bc64e788f54d",
   "metadata": {},
   "source": [
    "La $X$ være en diskret fordelt stokastisk variabel med punktsannsynlighet $f(x)=P(X=x)$ som angitt i følgende tabell.\n",
    "\n",
    "| $x$ |  | $f(x)$ |\n",
    "|:---:|----|:------:|\n",
    "| $0$ |  | $0.05$ |\n",
    "| $1$ |  | $0.10$ |\n",
    "| $2$ |  | $0.25$ |\n",
    "| $3$ |  | $0.40$ |\n",
    "| $4$ |  | $0.15$ |\n",
    "| $5$ |  | $0.05$ |\n",
    "\n",
    "  * Finn forventningsverdien for $X$, $E[X]$.\n",
    "  \n",
    "Python-koden under definerer en funksjon <em>simX</em> som genererer $n$ realisasjoner av $X$. Denne funksjonen kan du benytte til å besvare neste spørsmål. <em>Merk: Studer koden slik at du senere selv kan skrive pythonfunksjoner.</em>\n"
   ]
  },
  {
   "cell_type": "code",
   "execution_count": null,
   "id": "fdd79be5-15cd-4a78-839d-142b2b2bb7d2",
   "metadata": {},
   "outputs": [],
   "source": [
    "#UTLEVERT KODE (ingenting her skal endres) \n",
    "\n",
    "import numpy as np\n",
    "\n",
    "#utfallsrom\n",
    "x = np.arange(6)\n",
    "#punktsannsynlighet\n",
    "f_x = np.array([0.05,0.10,0.25,0.40,0.15,0.05]) \n",
    "#kumulativ fordelingsfunksjon\n",
    "F_x = [np.sum(f_x[:i]) for i in range(1,7)]\n",
    "def simX(n):\n",
    "    x_sim = np.zeros(n) # for lagring av de simulerte x-ene \n",
    "    for i in range(n): #vi simulerer hver og en x for seg\n",
    "        u = np.random.uniform() # en realisasjon fra uniformfordelingen U(0,1) \n",
    "        if(u < F_x[0]): #hvis u er mindre enn den laveste verdien i F_x vil\n",
    "                          #vi at realisasjonen skal være 0\n",
    "            x_sim[i] = x[0]\n",
    "        elif(u <= F_x[1]): # hvis u er mindre enn den nest laveste verdien\n",
    "            x_sim[i] = x[1] \n",
    "        elif(u <= F_x[2]):\n",
    "            x_sim[i] = x[2] \n",
    "        elif(u <= F_x[3]):\n",
    "            x_sim[i] = x[3] \n",
    "        elif(u <= F_x[4]):\n",
    "            x_sim[i] = x[4] \n",
    "        elif(u > F_x[4]):\n",
    "            x_sim[i] = x[5] \n",
    "    return x_sim"
   ]
  },
  {
   "cell_type": "markdown",
   "id": "7c0b9b4f-0c59-44bc-b2a0-38517d8d48ee",
   "metadata": {},
   "source": [
    "   * Skriv python-kode som benytter stokastisk simulering, og spesielt <em>simX</em>-funksjonen definert over,\n",
    "    til å finne tilnærmede verdier for $E[X]$ og $P(X\\leq 2)$. Benytt for eksempel $n=1000$ og kjør gjerne \n",
    "    koden din flere ganger slik at du får en følelse av\n",
    "    nøyaktigheten av tilnærmelsene. Sammenlign de tilnærmede verdiene du finner her med de\n",
    "    eksakte verdiene du fant over og i Skriftlig innlevering 1."
   ]
  },
  {
   "cell_type": "code",
   "execution_count": null,
   "id": "88076656-a8b8-4bf4-bb03-55a6b8fa3eaa",
   "metadata": {},
   "outputs": [],
   "source": [
    "# Antall realisasjoner man skal bruke\n",
    "n = 1000\n",
    "\n",
    "# Simuler realisasjoner av X\n",
    "x = ...\n",
    "\n",
    "# Approksimer forventingsverdien til X\n",
    "forventningsverdi = ...\n",
    "\n",
    "# Approksimer sannsynligheten\n",
    "P_X_le_2 = ...\n",
    "\n",
    "\n",
    "# Skriv ut resultatet\n",
    "print(\"Approksimert forventningsverdi: \", forventningsverdi)\n",
    "print(\"Approksimert sannsynlighet: \",P_X_le_2)"
   ]
  },
  {
   "cell_type": "markdown",
   "id": "e4dae478-ad7b-41a5-9396-0c34dc48525a",
   "metadata": {},
   "source": [
    "## Fasit:\n",
    "* Oppgave 1: $2.65$"
   ]
  }
 ],
 "metadata": {
  "kernelspec": {
   "display_name": "Python 3 (ipykernel)",
   "language": "python",
   "name": "python3"
  },
  "language_info": {
   "codemirror_mode": {
    "name": "ipython",
    "version": 3
   },
   "file_extension": ".py",
   "mimetype": "text/x-python",
   "name": "python",
   "nbconvert_exporter": "python",
   "pygments_lexer": "ipython3",
   "version": "3.9.12"
  }
 },
 "nbformat": 4,
 "nbformat_minor": 5
}
