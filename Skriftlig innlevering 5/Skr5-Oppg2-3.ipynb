{
 "cells": [
  {
   "cell_type": "markdown",
   "id": "2c97972e-5e36-433b-8dfa-53cb6f6e8985",
   "metadata": {},
   "source": [
    "# Skriftlig innlevering 5, Oppgave 2-3 (av 3)"
   ]
  },
  {
   "cell_type": "markdown",
   "id": "410f661b-d1a0-467a-9155-81a71f92bc82",
   "metadata": {},
   "source": [
    "## Oppgave 2"
   ]
  },
  {
   "cell_type": "markdown",
   "id": "1a03ce05-a93b-4b1c-99fe-e15b3ba103c3",
   "metadata": {},
   "source": [
    "I situasjoner der det er uklart hvem som er den biologiske faren til et barn kan farskapet avklares ved å sammenligne DNA-prøver fra barnet med mulige fedre. For en mulig far gjøres dette ved å sammenligne $n$ ulike deler av DNA-strukturen til mannen med de samme $n$ deler av DNA-strukturen hos barnet. De $n$ undersøkte delene av DNA-strukturen skal vi anta er uavhengige. \n",
    "\n",
    "Hos et barn og en tilfeldig valgt mann (som ikke er biologisk far) er det for hver enkel del av DNA-strukturen som undersøkes en sannsynlighet $p = 0.15$ for at delen er sammenfallende hos barnet og mannen. Anta videre at en biologisk far alltid har alle de undersøkte delene av DNA-strukturen sammenfallende med barnets (dvs. vi ser bort fra mutasjoner o.l.), slik at hver undersøkte del av DNA-strukturen hos biologisk far og barn er sammenfallende med sannsynlighet $p = 1$.\n",
    "\n",
    "I denne oppgaven skal vi anta at $n=5$ deler av DNA-strukturen sammenlignes. Vi lar $X$ være antall sammenfallende deler av DNA-strukturen hos et barn og en tilfeldig mann (som ikke er biologisk far).\n"
   ]
  },
  {
   "cell_type": "markdown",
   "id": "784cb46e-4c92-4912-8183-2e7c7320b959",
   "metadata": {},
   "source": [
    "## Deloppgave a)"
   ]
  },
  {
   "cell_type": "markdown",
   "id": "3126e560-fe80-465e-9b6b-ad803f8441f8",
   "metadata": {},
   "source": [
    "Begrunn av $X$ er binomisk fordelt med parametere $n$ og $p=0.15$.\n",
    "\n",
    "Regn ut sannsynlighetene $P(X=3)$, $P(X\\geq 3)$ og $P(X=3|X\\geq 2)$."
   ]
  },
  {
   "cell_type": "markdown",
   "id": "65b53d5e-5c39-423f-8aa7-3129581b898d",
   "metadata": {},
   "source": [
    "#### Her er deloppgave a) slutt"
   ]
  },
  {
   "cell_type": "markdown",
   "id": "6bee2132-cc6f-400f-9218-999f495cd3c7",
   "metadata": {},
   "source": [
    "I en farsskapssak blir en mann erklært å være biologisk far dersom alle de $n$ undersøkte delene av DNA-strukturen er sammenfallende hos mannen og barnet. Dette kan vi se på som en hypotesetest der vi tester\n",
    "\n",
    "\\begin{align*}\n",
    "H_0: p=0.15 \\,\\mbox{(ikke far)} \\,\\,\\,\\,\\,\\, \\mbox{mot}\\,\\,\\,\\,\\,\\, H_1: p=1\\, \\mbox{(far)}.\n",
    "\\end{align*}\n",
    "\n",
    "og forkaster $H_0$ (dvs. erklærer at mannen er far til barnet) dersom $X=n$."
   ]
  },
  {
   "cell_type": "markdown",
   "id": "bafe938a-a8a7-4878-ad27-8e9656354330",
   "metadata": {},
   "source": [
    "## Deloppgave b)"
   ]
  },
  {
   "cell_type": "markdown",
   "id": "3e7a0974-cb90-4fb6-ba00-dae6b155c12e",
   "metadata": {},
   "source": [
    "Hva er sannsynligheten for å gjøre en type I-feil i denne testen?\n",
    "\n",
    "Hva er sannsynligheten for å gjøre en type II-feil i denne testen? "
   ]
  },
  {
   "cell_type": "markdown",
   "id": "d88105c1-cc75-4f2c-9078-00a9165535dc",
   "metadata": {},
   "source": [
    "## Oppgave 3"
   ]
  },
  {
   "cell_type": "markdown",
   "id": "2a3260c4-e7d2-4298-963d-31e15121565d",
   "metadata": {},
   "source": [
    "På et av de mange oppdrettsanleggene på Frøya ønsker oppdretteren å vite hvor mange (oppdretts)laks han har i en av merdene. Du er blitt engasjert som konsulent for å bistå. I en merd finnes det $m$ laks, der $m$ er ukjent og skal estimeres. Vi skal  undersøke følgende metode: Vi fanger først $r$ laks og merker disse før de legges ut i merden igjen. Siden det er vi som velger hvor mange laks vi vil merke er $r$ selvfølgelig et kjent tall. Etter en stund begynner vi å fange en og en laks, og for hver laks vi fanger sjekker vi om laksen er merket eller ei og legger den ut i merden igjen før vi fanger neste laks. Slik holder vi på inntil vi $k$ ganger har fanget en laks som er merket. Merk at siden $k$ er et tall vi velger vil også dette være et kjent tall. La $X$ være antall laks vi fanger (i den andre fasen hvor vi fanger en og en laks)."
   ]
  },
  {
   "cell_type": "markdown",
   "id": "b7730f56-5b14-45da-8726-c50b88d2c77b",
   "metadata": {},
   "source": [
    "## Deloppgave a)"
   ]
  },
  {
   "cell_type": "markdown",
   "id": "92ad9af6-6bfa-42d8-a78d-c512cb97248d",
   "metadata": {},
   "source": [
    "Hvilke antagelser og eventuelt tilnærmelser må vi gjøre for å kunne betrakte $X$ som negativt binomisk fordelt med parametere $k$ og $p=r/m$?"
   ]
  },
  {
   "cell_type": "markdown",
   "id": "2cb14206-639f-4ca1-8784-0f7a1c2178f7",
   "metadata": {},
   "source": [
    "#### Her er deloppgave a) slutt"
   ]
  },
  {
   "cell_type": "markdown",
   "id": "5e2c20d0-e8d3-4134-9f4f-36ed4c43a7d1",
   "metadata": {},
   "source": [
    "Videre i oppgaven forutsetter vi at de antagelser og tilnærmelser som ligger til grunn for resultatet i a) er oppfylt. Dessuten, selv om antall laks $m$ i merden må være et heltall, skal vi videre i oppgaven regne som om $m$ er et reelt tall."
   ]
  },
  {
   "cell_type": "markdown",
   "id": "5f32ca5f-672c-4824-aa1c-db04a2ed4baf",
   "metadata": {},
   "source": [
    "## Deloppgave b)"
   ]
  },
  {
   "cell_type": "markdown",
   "id": "6910a33a-59d8-499b-8b5b-ed60352dd790",
   "metadata": {},
   "source": [
    "Utled sannsynlighetsmaksimeringsestimatoren for $m$, $\\hat{m}$.\n",
    "\n",
    "Finn forventningsverdi og varians til $\\hat{m}$."
   ]
  },
  {
   "cell_type": "markdown",
   "id": "388820e4-8cd7-4ce0-b833-25e56d1ec1ad",
   "metadata": {},
   "source": [
    "#### Her er deloppgave b) slutt"
   ]
  },
  {
   "cell_type": "markdown",
   "id": "690e78ba-e714-43ba-867a-e3c6ab3646c7",
   "metadata": {},
   "source": [
    "Hvis $k$ er tilstrekkelig stor vil $X$ være tilnærmet normalfordelt. Dette følger fra sentralgrenseteoremet fordi $X$ da kan skrives som en sum av mange uavhengige og identisk fordelte variabler. Du trenger ikke å bevise dette, men du kan benytte resultatet til å løse den siste deloppgaven.\n",
    "\n",
    "Etter en høststorm undrer oppdretteren på om det er rømt noen oppdrettslaks fra en av de andre merdene på oppdrettsanlegget. Dagen før stormen var det $m=50, 000$ laks i den aktuelle merden. Det blir derfor bestemt å estimere antall laks i merden etter høststormen. For dette benyttes det $r=1000$ og $k=20$, og det viste seg at man måtte fange $728$ laks."
   ]
  },
  {
   "cell_type": "markdown",
   "id": "9e92edf5-338d-4617-b1a3-93c3aecb7b00",
   "metadata": {},
   "source": [
    "## Deloppgave c)"
   ]
  },
  {
   "cell_type": "markdown",
   "id": "6cfbae07-134e-41ac-98b8-ad8e9ce7a932",
   "metadata": {},
   "source": [
    "Har oppdretteren noen grunn til å bekymre seg over rømt laks på et (tilnærmet) $\\alpha=5\\%$ signifikansnivå? Formuler hypotesene $H_0$ og $H_1$, velg en testobservator, bestem en beslutningsregel og finn hva konklusjonen blir med den observerte vedrien."
   ]
  },
  {
   "cell_type": "markdown",
   "id": "cc4890fa-e636-4ba4-9789-a66deadd6d6b",
   "metadata": {},
   "source": [
    "## Fasit:\n",
    "* Oppgave 2a): $0.0244$, $0.0266$, $0.1480$\n",
    "* Oppgave 2b): $7.594\\cdot 10^{-5}$, $0$\n",
    "* Oppgave 3b): $\\hat{m}=\\frac{Xr}{k}$, $E[\\hat{m}]=m$, $\\mbox{Var}[\\hat{m}]=m(m-r)/k$\n",
    "* Oppgave 3c): $H_0:\\:m=50000$. Forkaster ikke $H_0$."
   ]
  }
 ],
 "metadata": {
  "kernelspec": {
   "display_name": "Python 3 (ipykernel)",
   "language": "python",
   "name": "python3"
  },
  "language_info": {
   "codemirror_mode": {
    "name": "ipython",
    "version": 3
   },
   "file_extension": ".py",
   "mimetype": "text/x-python",
   "name": "python",
   "nbconvert_exporter": "python",
   "pygments_lexer": "ipython3",
   "version": "3.9.12"
  }
 },
 "nbformat": 4,
 "nbformat_minor": 5
}
