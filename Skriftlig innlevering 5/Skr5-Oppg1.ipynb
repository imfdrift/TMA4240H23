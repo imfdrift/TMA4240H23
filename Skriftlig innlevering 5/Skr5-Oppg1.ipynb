{
 "cells": [
  {
   "cell_type": "markdown",
   "id": "451fb8b4-6c4c-4f32-a57a-ef4430ab2a1e",
   "metadata": {},
   "source": [
    "# Skriftlig innlevering 5, Oppgave 1 (av 3)"
   ]
  },
  {
   "cell_type": "markdown",
   "id": "a8b378b6-b168-4265-b46d-5d8c98b85a1c",
   "metadata": {},
   "source": [
    "## Oppgave 1 *"
   ]
  },
  {
   "cell_type": "markdown",
   "id": "0135bbb0-64e6-43ee-a37a-9bb246614fb2",
   "metadata": {},
   "source": [
    "Når to væsker A og B blandes sammen vil volumet av en ideell blanding av $x$ deler A og $1 − x$ deler B være lik volumet av $x$ deler A pluss volumet av $1 − x$ deler B. For en ikke-ideell blanding vil volumet avvike noe fra det ideelle tilfellet.\n",
    "\n",
    "Man kan eksperimentelt bestemme avviket fra en ideell blanding når A og B blandes. La $x_1,x_2,\\ldots,x_n$ være andeler av A som blandes med $1−x_1,1−x_2,\\ldots,1−x_n$ andeler B, og la $Y_1,Y_2,\\ldots,Y_n$ være **avviket** i volum som måles fra en ideell blanding. Vi antar at dette avviket er på formen\n",
    "\n",
    "\\begin{align*}\n",
    "Y_i = \\beta x_i (1-x_i) + \\varepsilon_i,\n",
    "\\end{align*}\n",
    "\n",
    "der $\\varepsilon_1,\\varepsilon_2,\\ldots,\\varepsilon_n$ er uavhengige og normalfordelte støyledd med forventningsverdi lik null og en varians $\\sigma^2$. Dette betyr at $Y_1,Y_2,\\ldots,Y_n$ er uavhengige og normalfordelte og at $E[Y_i] = \\beta x_i (1-x_i)$ og $\\mbox{Var}[Y_i]=\\sigma^2$. For en ideel væske er $\\beta$ lik null.\n",
    "\n",
    "Merk at siden vi kan velge verdiene på $x_1,x_2,\\ldots,x_n$, betrakter vi disse som kjente tall, mens vi betrakter $Y_1,Y_2,\\ldots,Y_n$ som stokastiske variabler. I en reell situasjon vil nok både verdiene til $\\beta$ og til $\\sigma^2$ være ukjente, men for å forenkle situasjonen skal vi i denne oppgaven anta at verdien til variansen er kjent lik $\\sigma^2=0.025^2$. Verdien til parameteren $\\beta$ er ukjent og vi ønsker å estimere denne verdien ut fra de observerte verdien for $Y_1,Y_2,\\ldots,Y_n$.\n",
    "\n",
    "Et (simulert) datasett med $n=50$ observasjoner finnes i fila 'blanding.csv'. Fila inneholder $n$ rader hvor rad nummer $i$ har den valgte verdien til $x_i$ og tilhørende observert verdi $y_i$."
   ]
  },
  {
   "cell_type": "markdown",
   "id": "5671765f-4e0a-4018-9f45-2fb1247fc7a2",
   "metadata": {},
   "source": [
    "## Deloppgave a)"
   ]
  },
  {
   "cell_type": "markdown",
   "id": "f71643e4-1da4-446a-8dc2-5f649ca74111",
   "metadata": {},
   "source": [
    "Les inn datasettet ved å kjøre pythonkoden under."
   ]
  },
  {
   "cell_type": "code",
   "execution_count": 1,
   "id": "5d786906-7326-4b54-9311-34a9634271e8",
   "metadata": {},
   "outputs": [],
   "source": [
    "import pandas as pd\n",
    "import numpy as np\n",
    "\n",
    "data = pd.read_csv(\"blanding.csv\")\n",
    "x = np.array(data)[:,0]\n",
    "y = np.array(data)[:,1]"
   ]
  },
  {
   "cell_type": "markdown",
   "id": "5a804288-b489-4771-b0c7-e3ccbe9759a9",
   "metadata": {},
   "source": [
    "For å få et visuelt inntrykk av datasettet, skriv og kjør pythonkode som produserer et spredningsplott av datasettet. Pythonkoden din skal altså generere et plott av punktene $(x_i,y_i),i=1,2,\\ldots,n$. Legg til navn på aksene og en overskrift til plottet slik at det er lett se hva plottet viser. <em>Hint: Du kan benytte funksjonen \"scatter\" i modulen \"matplotlib\".</em>"
   ]
  },
  {
   "cell_type": "code",
   "execution_count": 2,
   "id": "d32739ce-9269-4242-9cf9-d725c038ec6f",
   "metadata": {},
   "outputs": [],
   "source": [
    "import matplotlib.pyplot as plt\n",
    "\n",
    "# Her kan du skrive kode for å generere plott det spørres etter."
   ]
  },
  {
   "cell_type": "markdown",
   "id": "b460b556-3829-4d3d-85a8-c9c03e80ade7",
   "metadata": {},
   "source": [
    "Ser det ut som vi har å gjøre med en ideell blanding? Begrunn svaret ditt."
   ]
  },
  {
   "cell_type": "markdown",
   "id": "c705439b-e3cc-4812-833c-3c24163635b7",
   "metadata": {},
   "source": [
    "## Deloppgave b)"
   ]
  },
  {
   "cell_type": "markdown",
   "id": "1e6522f4-6988-4c23-aefb-c56c70d688e6",
   "metadata": {},
   "source": [
    "Utled sannsynlighetsmaksimeringsestimatoren for $\\beta$ og vis at denne kan skrives å formen \n",
    "\n",
    "\\begin{align*}\n",
    "\\hat{\\beta} = \\frac{\\sum_{i=1}^n x_i(1-x_i)Y_i}{\\sum_{i=1}^n(x_i(1-x_i))^2}.\n",
    "\\end{align*}"
   ]
  },
  {
   "cell_type": "markdown",
   "id": "12f5432b-4ca6-46b3-b253-af8596d211d0",
   "metadata": {},
   "source": [
    "Skriv og kjør pythonkode for å regne ut estimatet for $\\beta$ for datasettet gitt i fila \"blanding.csv\"."
   ]
  },
  {
   "cell_type": "code",
   "execution_count": 3,
   "id": "74a659a5-c406-4917-9672-5034d2b3d262",
   "metadata": {},
   "outputs": [],
   "source": [
    "# Her kan du skrive koden for å beregne estimatet for beta\n"
   ]
  },
  {
   "cell_type": "markdown",
   "id": "1430decb-6d1b-40e9-b2ba-b498cc52f5fc",
   "metadata": {},
   "source": [
    "## Deloppgave c)"
   ]
  },
  {
   "cell_type": "markdown",
   "id": "5fb47eda-be0b-406c-b87e-c1678e8f1032",
   "metadata": {},
   "source": [
    "Finn forventningsverdi og varians for estimatoren $\\hat{\\beta}$. <em>Hint: Husk at det kun er $Y_i$'ene som er stokastiske variabler, $x_i$'ene er tall."
   ]
  },
  {
   "cell_type": "markdown",
   "id": "4599d8ff-2fe9-4052-82e0-e22c61a6b71f",
   "metadata": {},
   "source": [
    "## Deloppgave d)"
   ]
  },
  {
   "cell_type": "markdown",
   "id": "d1b441e8-d4f8-47ad-8704-26abaedc900c",
   "metadata": {},
   "source": [
    "Forklar hvorfor $\\hat{\\beta}$ er normalfordelt.\n",
    "\n",
    "Utled et $(1-\\alpha)\\cdot 100\\%$-konfidensintervall for $\\beta$. Uttrykk først konfidensintervallet som en funksjon av $x_i$'ene, $y_i$'ene, $\\sigma^2$ og $\\alpha$, og skriv og kjør deretter pythonkode for å regne ut intervallet numerisk for $\\alpha=0.05$. <em>Hint: For å utlede konfidensintervallet, start med å standardisere $\\hat{\\beta}$.</em>"
   ]
  },
  {
   "cell_type": "code",
   "execution_count": 4,
   "id": "66b92281-d447-405c-8627-687190610b92",
   "metadata": {},
   "outputs": [],
   "source": [
    "# Her kan du skrive kode for å beregne konfidensintervallet numerisk\n"
   ]
  },
  {
   "cell_type": "markdown",
   "id": "a2e9f65c-cb98-48cf-bbc7-b023f679f9b6",
   "metadata": {},
   "source": [
    "Ut fra dette (numeriske) intervallet, ser det her ut som om vi har å gjøre med en ideell blanding? Begrunn svaret."
   ]
  },
  {
   "cell_type": "markdown",
   "id": "6a15b0e9-c4eb-4833-a0c3-18d7c300b0de",
   "metadata": {},
   "source": [
    "#### Her er deloppgave d) slutt"
   ]
  },
  {
   "cell_type": "markdown",
   "id": "23f6ceed-bafd-4725-b9d2-e53070017a3a",
   "metadata": {},
   "source": [
    "Anta så at vi er interessert i en ny måling som vi enda ikke har gjort. I denne målingen skal vi blande $x_0$ andeler av væske A med $1-x_0$ andeler av væske B og vi lar $Y_0$ være det observerte avviket fra i volum fra en ideell væske som vi kommer til å observere. Vi skal starte med å fokusere på forventningsverdien til $Y_0$, som vi betegner som $\\mu_0$ og som i følge antagelsene som er gjort over er gitt som \n",
    "\n",
    "\\begin{align*}\n",
    "\\mu_0 = E[Y_0] = \\beta x_0 (1-x_0).\n",
    "\\end{align*}"
   ]
  },
  {
   "cell_type": "markdown",
   "id": "c90546b0-70bb-4bb0-bd68-9d99e0ed4b23",
   "metadata": {},
   "source": [
    "## Deloppgave e)"
   ]
  },
  {
   "cell_type": "markdown",
   "id": "2ee72711-a4d5-4ec3-9f9e-cb7f5002f8e1",
   "metadata": {},
   "source": [
    "Foreslå en estimator, $\\hat{\\mu}_0$, for $\\mu_0$. Hvilken type sannsynlighetsfordeling har $\\hat{\\mu}_0$?\n",
    "\n",
    "Finn forventningsverdi og varians for $\\hat{\\mu}_0$. \n",
    "\n",
    "Utled et $(1-\\alpha)\\cdot 100\\%$-konfindensintervall for $\\mu_0$. Finn et uttrykk for konfidensintervallet som funksjon av $x_i$'ene, $y_i$'ene, $\\sigma^2$, $\\alpha$ og $x_0$.\n",
    "\n",
    "For $\\alpha=0.05$, regn ut konfidensintervallet numerisk for ulike verdier av $x_0\\in[0,1]$ og plott øvre og nedre grense i konfidensintervallet som en kurve (som funksjon av $x_0$) i samme plott som spredningsplottet du lagde i deloppgave a). Når du ser på plottet du har laget, hva tenker du om bredden på konfidensintervallet (for ulike verdier av $x_0$) i forhold til den spredningen du ser i de observerte verdiene for $y_i$'ene?"
   ]
  },
  {
   "cell_type": "markdown",
   "id": "9535343a-31db-4c77-9b91-cd2f796cf1d4",
   "metadata": {},
   "source": [
    "## Fasit:\n",
    "* Oppgave 1c): $E[\\hat{\\beta}]=\\beta$, $\\mbox{Var}[\\hat{\\beta}]=\\sigma^2\\left/\\sum_{i=1}^n(x_i(1-x_i))^2\\right.$\n",
    "* Oppgave 1d): $[-0.2715 , -0.1932]$\n",
    "* Oppgave 1e): $E[\\hat{\\mu}_0]=\\mu_0$, $\\mbox{Var}[\\hat{\\mu}_0]=\\sigma^2(x_0(1-x_0))^2\\left/\\sum_{i=1}^n (x_i(1-x_i))^2\\right.$"
   ]
  }
 ],
 "metadata": {
  "kernelspec": {
   "display_name": "Python 3 (ipykernel)",
   "language": "python",
   "name": "python3"
  },
  "language_info": {
   "codemirror_mode": {
    "name": "ipython",
    "version": 3
   },
   "file_extension": ".py",
   "mimetype": "text/x-python",
   "name": "python",
   "nbconvert_exporter": "python",
   "pygments_lexer": "ipython3",
   "version": "3.9.12"
  }
 },
 "nbformat": 4,
 "nbformat_minor": 5
}
