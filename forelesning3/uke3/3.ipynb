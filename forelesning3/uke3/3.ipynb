{
 "cells": [
  {
   "cell_type": "markdown",
   "id": "0e213026-c247-4b5a-bf24-00146e1105ff",
   "metadata": {},
   "source": [
    "## Simulere trekning fra urne uten tilbakelegging"
   ]
  },
  {
   "cell_type": "code",
   "execution_count": null,
   "id": "19db2508-ca49-4256-84b2-207586b87f08",
   "metadata": {},
   "outputs": [],
   "source": [
    "import numpy as np\n",
    "import matplotlib.pyplot as plt\n",
    "\n",
    "def simTrekk(nR,nB,nTrekk):\n",
    "    nRTrukket = 0\n",
    "    nBTrukket = 0\n",
    "    \n",
    "    for i in np.arange(nTrekk):\n",
    "        u = np.random.uniform(0,1)\n",
    "        pR = (nR - nRTrukket) / (nR + nB - nRTrukket - nBTrukket)\n",
    "        if u <= pR:\n",
    "            nRTrukket += 1\n",
    "        else:\n",
    "            nBTrukket += 1\n",
    "        \n",
    "    return nRTrukket"
   ]
  },
  {
   "cell_type": "markdown",
   "id": "2cfeff87-346f-473d-ae09-13b88ef21bab",
   "metadata": {},
   "source": [
    "#### Approksimere $P(A)$"
   ]
  },
  {
   "cell_type": "code",
   "execution_count": null,
   "id": "37207056-deae-4737-b1fe-1ad371cd7555",
   "metadata": {},
   "outputs": [],
   "source": [
    "nR = 8\n",
    "nB = 12\n",
    "nTrekk = 6\n",
    "\n",
    "n = 100000\n",
    "nSuccess = 0\n",
    "for i in np.arange(n):\n",
    "    nRTrukket = simTrekk(nR,nB,nTrekk)\n",
    "    if nRTrukket >= 3:\n",
    "        nSuccess += 1\n",
    "\n",
    "print(\"P(A): \",nSuccess/n)\n",
    "    "
   ]
  },
  {
   "cell_type": "markdown",
   "id": "61c5eaa3-0ee6-4fe6-9cb5-321d33fef4fd",
   "metadata": {},
   "source": [
    "#### Approksimere $P(B)$"
   ]
  },
  {
   "cell_type": "code",
   "execution_count": null,
   "id": "8124276b-7c74-4ebb-aba8-4ff1ac01dcb9",
   "metadata": {},
   "outputs": [],
   "source": [
    "import numpy as np\n",
    "import matplotlib.pyplot as plt\n",
    "\n",
    "def simTrekk2(nR,nB,nTrekk,nTrekkStart):\n",
    "    nRTrukket = 0\n",
    "    nBTrukket = 0\n",
    "    nRTrukketStart = 0\n",
    "    \n",
    "    for i in np.arange(nTrekk):\n",
    "        u = np.random.uniform(0,1)\n",
    "        pR = (nR - nRTrukket) / (nR + nB - nRTrukket - nBTrukket)\n",
    "        if u <= pR:\n",
    "            nRTrukket += 1\n",
    "            if i < nTrekkStart:\n",
    "                nRTrukketStart += 1\n",
    "        else:\n",
    "            nBTrukket += 1\n",
    "        \n",
    "    return nRTrukket, nRTrukketStart\n",
    "\n",
    "nR = 8\n",
    "nB = 12\n",
    "nTrekk = 6\n",
    "nTrekkStart = 4\n",
    "\n",
    "n = 100000\n",
    "nSuccess = 0\n",
    "for i in range(n):\n",
    "    nRTrukket, nRTrukketStart = simTrekk2(nR,nB,nTrekk,nTrekkStart)\n",
    "    if nRTrukket >= 4 and nRTrukketStart <= 3:\n",
    "        nSuccess += 1\n",
    "\n",
    "print(\"P(B): \",nSuccess/n)"
   ]
  },
  {
   "cell_type": "markdown",
   "id": "23a3617c-0e05-439c-90fb-e31ef01e39dd",
   "metadata": {},
   "source": [
    "## Simulere levetider"
   ]
  },
  {
   "cell_type": "code",
   "execution_count": null,
   "id": "a2f6a36c-0ca2-4a87-952d-02dd5e2f4e6c",
   "metadata": {},
   "outputs": [],
   "source": [
    "import numpy as np\n",
    "import matplotlib.pyplot as plt\n",
    "\n",
    "def simT(alpha,n):\n",
    "    u = np.random.uniform(0,1,n)\n",
    "    t = np.sqrt(- alpha * np.log(1 - u))\n",
    "    \n",
    "    return t"
   ]
  },
  {
   "cell_type": "markdown",
   "id": "e95dab94-b223-40f0-9c66-d2614fc81f33",
   "metadata": {},
   "source": [
    "#### Approksimere forventningsverdi og varians"
   ]
  },
  {
   "cell_type": "code",
   "execution_count": null,
   "id": "b1abcf41-3973-4240-bb46-ca09255cb52b",
   "metadata": {},
   "outputs": [],
   "source": [
    "n = 100000\n",
    "alpha = 2.5\n",
    "t = simT(alpha,n)\n",
    "\n",
    "gjennomsnitt = np.mean(t)\n",
    "empiriskVarians = np.var(t,ddof=1)  # Merk: Trenger ddof=1 for at den skal dele på n-1\n",
    "\n",
    "print(\"E[T]: \", 0.5 * np.sqrt(alpha * np.pi), gjennomsnitt)\n",
    "print(\"Var[T]: \",alpha * (1-np.pi/4), empiriskVarians)\n",
    "\n"
   ]
  },
  {
   "cell_type": "markdown",
   "id": "f11d8172-a975-419e-aefe-783ef1a77706",
   "metadata": {},
   "source": [
    "## Simulere kostnad ved ulike strategier"
   ]
  },
  {
   "cell_type": "markdown",
   "id": "c28a00fd-2b04-4613-920e-02a4581fc0af",
   "metadata": {},
   "source": [
    "#### Strategi $i$)"
   ]
  },
  {
   "cell_type": "code",
   "execution_count": null,
   "id": "0d6d09fb-ee2b-48a8-bc52-9fbb9428a6c6",
   "metadata": {},
   "outputs": [],
   "source": [
    "totalTime = 24 * 30\n",
    "\n",
    "alpha = 24*24*4*4/np.pi\n",
    "\n",
    "def sim1(alpha,totalTime):\n",
    "    kostnad = 0\n",
    "    tid = 0\n",
    "\n",
    "    while (tid <= totalTime):\n",
    "        t = simT(alpha,5)\n",
    "        tMin = np.min(t)\n",
    "        if tid + tMin < totalTime:\n",
    "            kostnad += 3 * 25000 + 5 * 5000\n",
    "        tid += tMin + 3\n",
    "        \n",
    "    return kostnad\n",
    "    \n",
    "\n",
    "nSim = 10000\n",
    "kost = np.arange(nSim)\n",
    "for i in np.arange(nSim):\n",
    "    kost[i] = sim1(alpha,totalTime)\n",
    "    \n",
    "print(\"Gjennomsnittlig kostnad pr time ved strategi i: \",np.mean(kost)/(24*30))"
   ]
  },
  {
   "cell_type": "markdown",
   "id": "bb11b7fa-85a5-4f06-90b8-acb0de06fb86",
   "metadata": {},
   "source": [
    "#### Strategi $ii$) "
   ]
  },
  {
   "cell_type": "code",
   "execution_count": null,
   "id": "6e6e0b12-a685-48af-a0ac-05b74ef50254",
   "metadata": {},
   "outputs": [],
   "source": [
    "def sim2(alpha,totalTime):\n",
    "    kostnad = 0\n",
    "    tid = 0\n",
    "    forventningsverdi = 0.5 * np.sqrt(alpha * np.pi)\n",
    "\n",
    "    while (tid <= totalTime):\n",
    "        t = simT(alpha,5)\n",
    "        tMin = np.min(t)\n",
    "        if tMin <= forventningsverdi:\n",
    "            if tid + tMin < totalTime:\n",
    "                kostnad += 3 * 25000 + 5 * 5000\n",
    "            tid += tMin + 3\n",
    "        else:\n",
    "            kostnad += 25000 + 5 * 5000\n",
    "            tid += forventningsverdi + 1\n",
    "        \n",
    "    return kostnad\n",
    "    \n",
    "\n",
    "nSim = 10000\n",
    "kost = np.arange(nSim)\n",
    "for i in np.arange(nSim):\n",
    "    kost[i] = sim2(alpha,totalTime)\n",
    "    \n",
    "print(\"Gjennomsnittlig kostnad pr time ved strategi ii: \",np.mean(kost)/(24*30))"
   ]
  },
  {
   "cell_type": "markdown",
   "id": "b8e2da7e-1471-4ce3-940f-83b5989447f6",
   "metadata": {},
   "source": [
    "#### Strategi $iii$)"
   ]
  },
  {
   "cell_type": "code",
   "execution_count": null,
   "id": "3c236550-d164-4b0e-8dbc-8babae6aef81",
   "metadata": {},
   "outputs": [],
   "source": [
    "def sim3(alpha,totalTime):\n",
    "    kostnad = 0\n",
    "    tid = 0\n",
    "    forventningsverdi = 0.5 * np.sqrt(alpha * np.pi)\n",
    "\n",
    "    while (tid <= totalTime):\n",
    "        t = simT(alpha,5)\n",
    "        tMin = np.min(t)\n",
    "        if tMin <= 0.5 * forventningsverdi:\n",
    "            if tid + tMin < totalTime:\n",
    "                kostnad += 3 * 25000 + 5 * 5000\n",
    "            tid += tMin + 3\n",
    "        else:\n",
    "            kostnad += 25000 + 5 * 5000\n",
    "            tid += 0.5 * forventningsverdi + 1\n",
    "        \n",
    "    return kostnad\n",
    "    \n",
    "\n",
    "nSim = 10000\n",
    "kost = np.arange(nSim)\n",
    "for i in np.arange(nSim):\n",
    "    kost[i] = sim3(alpha,totalTime)\n",
    "    \n",
    "print(\"Gjennomsnittlig kostnad pr time ved strategi iii: \",np.mean(kost)/(24*30))"
   ]
  },
  {
   "cell_type": "code",
   "execution_count": null,
   "id": "a77ed50c-cd04-4434-a6da-e2e5b869a3cc",
   "metadata": {},
   "outputs": [],
   "source": []
  }
 ],
 "metadata": {
  "kernelspec": {
   "display_name": "Python 3 (ipykernel)",
   "language": "python",
   "name": "python3"
  },
  "language_info": {
   "codemirror_mode": {
    "name": "ipython",
    "version": 3
   },
   "file_extension": ".py",
   "mimetype": "text/x-python",
   "name": "python",
   "nbconvert_exporter": "python",
   "pygments_lexer": "ipython3",
   "version": "3.10.8"
  }
 },
 "nbformat": 4,
 "nbformat_minor": 5
}
