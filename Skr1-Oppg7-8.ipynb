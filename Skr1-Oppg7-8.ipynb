{
 "cells": [
  {
   "cell_type": "markdown",
   "id": "439aa589-09f0-4311-8ea6-cb724535429e",
   "metadata": {},
   "source": [
    "# Skriftlig innlevering 1, Oppgave 7-8 (av 8)"
   ]
  },
  {
   "cell_type": "markdown",
   "id": "0d2d52e7-b5db-4b4d-8a9f-ceae00eb1351",
   "metadata": {},
   "source": [
    "## Oppgave 7"
   ]
  },
  {
   "cell_type": "markdown",
   "id": "7b5eb5a5-d087-48cf-8abc-99c6be681ed0",
   "metadata": {},
   "source": [
    "I et lotteri er det $300$ lodd. Tre av loddene gir en gevinst av type $A$ og tre andre lodd gir en\n",
    "  gevinst av type $B$. De øvrige 294 loddene gir ingen gevinst. Ola kjøper fem lodd som han trekker tilfeldig blant de $300$ loddene.\n",
    "  La $X$ betegne antall gevinster av type A som Ola vinner, og la $Y$ betegne antall gevinster han vinner\n",
    "  av type B.\n",
    "  \n",
    "  La $f_X(x)=P(X=x)$ betegne punktsannsynligheten for $X$, og la tilsvarende $f_Y(y)=P(Y=y)$ betegne\n",
    "  punktsannsynligheten\n",
    "  for $Y$. Simultan punktsannsynlighet for $X$ og $Y$ betegner vi med $f_{XY}(x,y)=P(X=x,Y=y)$.\n",
    "\n",
    "\n",
    "  * Benytt kombinatorikk-regler til å finne en formel for $f_X(x)$ som funksjon av $x=0,1,2,3$.\n",
    "  * Finn også en formel som gjelder for $f_{XY}(x,y)$ når $x,y\\in\\{0,1,2,3\\}$, $x+y\\leq 5$.\n",
    "\n",
    "For å besvare neste spørsmål kan du benytte at vi generelt har sammenhengen\n",
    "\\begin{align*}\n",
    "    f_X(x) = \\sum_y f_{XY}(x,y),\n",
    "\\end{align*}\n",
    "der summen er over alle mulige verdier for $y$.\n",
    "\n",
    "  * Utled fra $f_{XY}(x,y)$ en formel for marginalfordelingen for $f_X(x)$ og observer at denne\n",
    "    er identisk med formelen du fant over. <em>Hint: Du vil her få bruk for Vandermondes\n",
    "      identitet, som sier at for alle ikke-negative heltall $r$, $m$ og $n$ har man at</em>\n",
    "      \\begin{align*}\n",
    "        \\sum_{k=0}^r \\binom{m}{k}\\binom{n}{r-k} = \\binom{m+n}{r}.\n",
    "      \\end{align*}\n",
    "    \n"
   ]
  },
  {
   "cell_type": "markdown",
   "id": "abc72b72-84a1-4d6f-9abe-500f1289db99",
   "metadata": {},
   "source": [
    "## Oppgave 8"
   ]
  },
  {
   "cell_type": "markdown",
   "id": "3a76320a-ae32-41c5-9459-9dfc7d48f02f",
   "metadata": {},
   "source": [
    "La $X$ være en stokastisk variabel som beskriver hvor lang tid en komponent har fungert i det den svikter.\n",
    "  Vi kaller da $X$ for <em>levetiden</em> for komponenten.\n",
    "\n",
    "  Levetiden $X$ (målt i antall år) til en bestemt type mekaniske komponenter har vist seg å\n",
    "  følge en fordeling med kumulativ fordelingsfunksjon gitt ved\n",
    "  \\begin{align*}\n",
    "    F_X(x) = 1 - \\exp\\left\\{ -\\frac{x^2}{\\alpha}\\right\\}; x\\geq 0,\n",
    "  \\end{align*}\n",
    "  der $\\alpha$ er en parameter som beskriver kvaliteten til komponentene.\n"
   ]
  },
  {
   "cell_type": "markdown",
   "id": "d1c9d049-cb2b-4de2-b621-6d2c1829c030",
   "metadata": {},
   "source": [
    "### Deloppgave a)"
   ]
  },
  {
   "cell_type": "markdown",
   "id": "7d65e411-32f4-40ef-aab7-4853c11bf6c1",
   "metadata": {},
   "source": [
    "Kjør python-koden under for å generere et plott av $F_X(x)$ når $\\alpha=1$. <em>Merk: Studer koden slik at du kan skrive lignende kode selv senere.</em>\n"
   ]
  },
  {
   "cell_type": "code",
   "execution_count": null,
   "id": "ca3251ec-c379-4251-b490-cac0b61c351f",
   "metadata": {},
   "outputs": [],
   "source": [
    "#UTLEVERT KODE (ingenting her skal endres) \n",
    "\n",
    "import numpy as np\n",
    "import matplotlib.pyplot as plt\n",
    "\n",
    "# Sett hvilke x-verdier du vil plotte for\n",
    "x = np.linspace(0,5,100)\n",
    "\n",
    "# Sett verdien for parameteren alpha\n",
    "alpha = 1\n",
    "\n",
    "# Beregn kumulativ fordelingsfunksjon\n",
    "F_x = lambda x : 1- np.exp(-x**2/alpha) \n",
    "plt.plot(x, F_x(x), color=\"red\") \n",
    "plt.xlabel(\"x\")\n",
    "plt.ylabel(\"F(x)\") \n",
    "plt.show()"
   ]
  },
  {
   "cell_type": "markdown",
   "id": "44c57789-8b34-4c20-bf48-3c72b6d5f827",
   "metadata": {},
   "source": [
    "* Finn en formel for sannsynlighetstettheten $f_X(x)$ til $X$.\n",
    "* Skriv python-kode som genererer et plott av $f_X(x)$ for $x\\in (0,5)$. Skriv koden slik at du enkelt kan lage plott for ulike verdier av parameteren $\\alpha$, tilsvarende som er gjort i koden over for å plotte $F_X(x)$."
   ]
  },
  {
   "cell_type": "code",
   "execution_count": null,
   "id": "ff0b78b7-8de3-496d-a48b-852c634eb345",
   "metadata": {},
   "outputs": [],
   "source": [
    "import numpy as np\n",
    "import matplotlib.pyplot as plt\n",
    "\n",
    "# Sett hvilke x-verdier du vil plotte for\n",
    "x = np.linspace(0,5,100)\n",
    "\n",
    "# Sett verdien for parameteren alpha\n",
    "alpha = 1\n",
    "\n",
    "# Beregn så sannsynlighetstettheten og plott opp funksjonen\n",
    "\n",
    "\n"
   ]
  },
  {
   "cell_type": "markdown",
   "id": "e2ef4ea5-4f7c-49ca-a535-ee2a66504a6c",
   "metadata": {},
   "source": [
    "#### Her er deloppgave a) slutt."
   ]
  },
  {
   "cell_type": "markdown",
   "id": "56bcadd2-52df-4a7c-b9d0-3d0bfd387374",
   "metadata": {},
   "source": [
    "Et instrument inneholder to komponenter av denne typen, begge med samme kvalitetsparameter $\\alpha$.\n",
    "  De to komponentene svikter uavhengig av hverandre, og instrumentet fungerer så lenge minst en\n",
    "  av de to komponentene fungerer. La $Z$ betegne levetiden til instrumentet."
   ]
  },
  {
   "cell_type": "markdown",
   "id": "4b855425-b77f-4780-83ae-9b4694a36c2a",
   "metadata": {},
   "source": [
    "### Deloppgave b)"
   ]
  },
  {
   "cell_type": "markdown",
   "id": "9c5328d4-b240-498c-b43c-7c8dc5e5ea3e",
   "metadata": {},
   "source": [
    "* Finn en formel for sannsynligheten for at instrumentet fremdeles fungerer etter en tid $z$, dvs. $1-F_Z(z)=P(Z > z)$.\n",
    "* Bestem sannsynlighetstettheten for $Z$, $f_Z(z)$.\n",
    "* Der hvor du over skrev python-kode for å plotte $f_X(x)$, legg til python-kode for også å generere et plott av $f_Z(z)$. Inkluder plottet av $f_Z(z)$ i samme plott som $f_X(x)$, slik at du enkelt kan sammenligne de to sannsynlighetstetthetene. Kan du intuitivt forstå/forklare den kvalitative forskjellen mellom de to sannsynlighetstetthetene?"
   ]
  }
 ],
 "metadata": {
  "kernelspec": {
   "display_name": "Python 3 (ipykernel)",
   "language": "python",
   "name": "python3"
  },
  "language_info": {
   "codemirror_mode": {
    "name": "ipython",
    "version": 3
   },
   "file_extension": ".py",
   "mimetype": "text/x-python",
   "name": "python",
   "nbconvert_exporter": "python",
   "pygments_lexer": "ipython3",
   "version": "3.9.12"
  }
 },
 "nbformat": 4,
 "nbformat_minor": 5
}
