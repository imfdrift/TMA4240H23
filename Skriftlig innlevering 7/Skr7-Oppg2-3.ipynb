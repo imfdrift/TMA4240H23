{
 "cells": [
  {
   "cell_type": "markdown",
   "id": "f9de685e-a6ba-464b-8fd8-64d3dfd994db",
   "metadata": {},
   "source": [
    "# Skriftlig innlevering 7, Oppgave 2 og 3 (av 3)\n",
    "\n",
    "\n",
    "## Oppgave 2"
   ]
  },
  {
   "cell_type": "markdown",
   "id": "5ebe31ec-a865-4d57-8f24-29ee1b578792",
   "metadata": {},
   "source": [
    "I denne oppgaven skal vi tilpasse en enkel lineær regresjonsmodell til et datasett hvor $x_i$-ene er målt tetthet til australsk tømmer, mens tilhørende $y_i$ er målt verdi for den såkalte Janka-hardheten til det samme tømmeret. En grundigere presentasjon og diskusjon av datasettet finnes i 'E.J. Williams. Regression analysis. John Wiley & Sons Inc., New York, 1959; Tabell 3.1, side 43'."
   ]
  },
  {
   "cell_type": "code",
   "execution_count": 1,
   "id": "3c8d6d70-4fbc-4fb0-ae75-80e87fa21136",
   "metadata": {},
   "outputs": [],
   "source": [
    "import numpy as np\n",
    "from scipy.stats import norm\n",
    "import matplotlib.pyplot as plt\n",
    "\n",
    "x = np.array([24.7,24.8,27.3,28.4,28.4,29.0,30.3,32.7,35.6,38.5,38.8,39.3,39.4,39.9,40.3,40.6,40.7,40.7,\n",
    "              42.9,45.8,46.9,48.2,51.5,51.5,53.4,56.0,56.5,57.3,57.6,59.2,59.8,66.0,67.4,68.8,69.1,69.1])\n",
    "y = np.array([484,427,413,517,549,648,587,704,979,914,1070,1020,1210,989,1160,1010,1100,1130,1270,1180,\n",
    "              1400,1760,1710,2010,1880,1980,1820,2020,1980,2310,1940,3260,2700,2890,2740,3140])"
   ]
  },
  {
   "cell_type": "markdown",
   "id": "91329cdc-fc83-45b8-bd94-ebba29cbdb2c",
   "metadata": {},
   "source": [
    "### Deloppgave a)"
   ]
  },
  {
   "cell_type": "markdown",
   "id": "e2fc5317-1397-45d2-8c22-24920f00a024",
   "metadata": {},
   "source": [
    "Visualiser dataene i et spredningsplott. \n",
    "\n",
    "Anta så en enkel lineær regresjonsmodell for dataene og estimer parametrene $\\alpha$, $\\beta$ og $\\sigma^2$ basert på sannsynlighetsmaksimeringsprinsippet (dvs. regn ut estimater for de tre parametrene). Legg til den estimerte linja $y=\\hat{\\alpha}+\\hat{\\beta}x$ i spredningsplottet.\n",
    "\n",
    "Regn ut de (estimerte) residualene og visualiser disse i et residualplott. Diskuter det du ser i spredningsplottet og i residualplottet. Tyder plottene på at en enkel lineær regresjonsmodell passer for dette datasettet?"
   ]
  },
  {
   "cell_type": "markdown",
   "id": "92c950cb-f01e-423c-8af8-2802594ce81e",
   "metadata": {},
   "source": [
    "#### Her er deloppgave a) slutt.\n",
    "\n",
    "Uansett hva du konkluderte med i deloppgave a) skal du videre i oppgaven gi svar basert på en enkel lineær regresjonsmodell. Merk dessuten at du i resten av denne oppgaven kan benytte resultater som er utledet i læreboka/introvideoer/forelesninger, men må passe på at forutsetningene for resultatene du benytter er oppfylt.\n",
    "\n",
    "### Deloppgave b)\n",
    "\n",
    "Benytt datasettet til å gjennomføre en hypotesetest hvor du tester $H_0: \\alpha=0$ mot $H_1: \\alpha \\neq 0$. Dvs. spesifiser hvilken testobservator du vil benytte, angi hvilken sannsynlighetsfordeling testobservatoren har når $H_0$ er sann, finn en beslutningsregel slik at testen får signifikansnivå lik $0.10$, og benytt de observerte data til å bestemme om man skal forkaste $H_0$ eller ikke. "
   ]
  },
  {
   "cell_type": "code",
   "execution_count": 2,
   "id": "512501ac-cd07-4744-b4cc-223b066f867e",
   "metadata": {},
   "outputs": [],
   "source": [
    "# Her kan du skrive python-kode for å gjøre beregningene du trenger for å besvare oppgaven\n",
    "\n"
   ]
  },
  {
   "cell_type": "markdown",
   "id": "e2fc0056-9505-44f6-88bd-db10cc472183",
   "metadata": {},
   "source": [
    "### Deloppgave c)\n",
    "\n",
    "Du skal så finne et $90\\%$-prediksjonsintervall for Janka-hardheten, $Y_0$ i en trestamme hvor tettheten i trestammen er målt til $x=x_0$. Angi svaret som et intervall hvor nedre og øvre grense i intervallet er en funksjon av $x_0$. Plott opp nedre og øvre grense av prediksjonsintervallet sammen med spredningsplottet for $x_0\\in [24,70]$. \n",
    "\n",
    "Det å måle hardheten, altså $x$, i en trestamme kan gjøres raskt, mens det å måle Janka-hardheten, altså $Y$, er en mer arbeidskrevende prosess. Basert på dine resultater i denne oppgaven, vil du si at det er fornuftig erstatte en måling av Janka-hardheten med prediksjonen $y=\\hat{\\alpha}+\\hat{\\beta}x$ der $x$ er målt hardhet? Begrunn svaret ditt.\n"
   ]
  },
  {
   "cell_type": "code",
   "execution_count": 3,
   "id": "6822e344-99da-4704-af04-a20cbcd09b9a",
   "metadata": {},
   "outputs": [],
   "source": [
    "# Her kan du skrive python-kode for å gjøre beregningene du trenger for å besvare oppgaven\n",
    "\n"
   ]
  },
  {
   "cell_type": "markdown",
   "id": "5e5bc380-d645-4243-8c22-e6657344bf33",
   "metadata": {},
   "source": [
    "## Oppgave 3\n",
    "\n"
   ]
  },
  {
   "cell_type": "markdown",
   "id": "adb65c92-932d-4de9-bdfc-42da3706d7b7",
   "metadata": {},
   "source": [
    "Vi skal i denne oppgaven anta at bremselengden, $Y$ , målt i meter for en bil som kjører $x$ km/time antas å være normalfordelt med forventningsverdi $\\beta x^2$ og standardavvik $\\sigma x$. En bil som for eksempel kjører i 50 km/time vil dermed ha en bremselengde som er normalfordelt med forventningsverdi $2500\\beta$ og standardavvik $50\\sigma$. Modellen har to parametre, $\\beta$ og $\\sigma^2$, og disse vil avhenge av forsøksbetingelsene, som for eksempel dekkenes egenskaper, veidekke og vær- og føreforhold.\n",
    "\n",
    "Anta nå at verdiene til $\\beta$ og $\\sigma^2$ er ukjent og skal estimeres. For å estimere disse parametrene gjøres $n$ bremseprøver med ulike hastigheter, men forøvrig under identiske forsøksbetingelser. La $x_i$ betegne hastigheten benyttet ved bremseprøve nummer $i$, og la $Y_i$ være tilhørende bremselengde. Vi skal anta at bremseprøvene utføres på en slik måte at det er rimelig å betrakte $Y_1,Y_2,\\ldots,Y_n$ som uavhengige stokastiske variabler. Vi lar som vanlig $y_1,y_2,\\ldots,y_n$ betegne de målte bremselengdene.\n",
    "\n",
    "### Deloppgave a)\n",
    "\n",
    "Utled estimatorer for $\\beta$ og $\\sigma^2$ ved å benytte sannsynlighetsmaksimeringsprinsippet. Vis at estimatorene kan skrives på formen\n",
    "\n",
    "\\begin{align*}\n",
    "\\hat{\\beta}&=\\frac{\\sum_{i=1}^n Y_i}{\\sum_{i=1}^n x_i^2},\\\\\n",
    "\\hat{\\sigma}^2 &= \\frac{1}{n}\\sum_{i=1}^n \\left(\\frac{Y_i-\\hat{\\beta}x_i^2}{x_i}\\right)^2.~~~~~~~~~~~~~~~~~~~~~~~~~~~~~~~~\n",
    "\\end{align*}\n",
    "\n",
    "### Deloppgave b)\n",
    "\n",
    "Finn forventningsverdi og varians for estimatoren $\\hat{\\beta}$. \n",
    "\n",
    "Hvilken sannsynlighetsfordeling har $\\hat{\\beta}$? Begrunn svaret.\n",
    "\n",
    "### Deloppgave c)\n",
    "\n",
    "Bruk antagelsene gjort i oppgaveteksten over og sammenhenger mellom fordelinger som vi har diskutert tidligere i kurset til å vise at \n",
    "\n",
    "\\begin{align*}\n",
    "\\sum_{i=1}^n \\left(\\frac{Y_i-\\beta x_i^2}{\\sigma x_i}\\right)^2~~~~~~~~~~~~~~~~~~~~~~~~~~~~~~~~~~~~~~~~~~~~~\n",
    "\\end{align*}\n",
    "\n",
    "er $\\chi^2$-fordelt med $n$ frihetsgrader. Merk at det i uttrykket over står den (ukjente) sanne verdien $\\beta$. \n",
    "\n",
    "#### Her er deloppgave c) slutt.\n",
    "\n",
    "Videre i oppgaven kan du uten bevis benytte at dersom man i uttrykket gitt i deloppgave c) erstatter den (ukjente) sanne verdien $\\beta$ med estimatoren $\\hat{\\beta}$ vil størrelsen fremdeles være $\\chi^2$-fordelt, men antall frihetsgrader vil reduseres med en. Man har altså at\n",
    "\n",
    "\\begin{align*}\n",
    "V = \\sum_{i=1}^n \\left(\\frac{Y_i-\\hat{\\beta} x_i^2}{\\sigma x_i}\\right)^2~~~~~~~~~~~~~~~~~~~~~~~~~~~~~~~~~~~~~~~~~~~~~\n",
    "\\end{align*}\n",
    "\n",
    "er $\\chi^2$-fordelt med $n-1$ frihetsgrader. Du kan dessuten uten bevis benytte at $\\hat{\\beta}$ og $V$ er uavhengige stokastiske variabler.\n",
    "\n",
    "### Deloppgave d)\n",
    "\n",
    "Identifiser en pivotal som kan brukes til å utlede en konfidensintervall for $\\beta$. Vis hvilken sannsynlighetsfordeling pivotalen har, og bruk så dette til å utlede et $(1-\\alpha)\\cdot 100\\%$-konfidensintervall for $\\beta$.\n"
   ]
  },
  {
   "cell_type": "markdown",
   "id": "9215ca95",
   "metadata": {},
   "source": [
    "## Fasit:\n",
    "- 2a: $\\hat\\alpha = \\bar Y - \\hat\\beta \\bar x $,   $\\hat\\beta = \\frac{\\sum_{i=1}^n (x_i - \\bar x) Y_i}{\\sum_{i=1}^n (x_i-\\bar x)^2}$,   $\\hat\\sigma^2 = \\frac 1 n \\sum_{i=1}^n(Y_i-(\\hat\\alpha + \\hat\\beta x_i))^2  $\n",
    "- 2b: Forkast $H_0$.\n",
    "- 2c: $\\left[\\hat\\alpha+\\hat\\beta x_0 \\pm t_{n-2,\\alpha/2} \\sqrt{\\frac{n\\hat\\sigma^2}{n-2}\\left(1+ \\frac 1 n + \\frac{(\\bar x - x_0)^2}{\\sum^n_{i=1}(x_i-\\bar x)^2}\\right)} \\right]$\n",
    "- 3b: $E[\\hat\\beta]=\\beta$, $\\text{Var}[\\hat\\beta]=\\frac{\\sigma^2}{\\sum^n_{i=1}x_i^2}$\n",
    "- 3d: $\\left[\\hat\\beta \\pm t_{n-1,\\alpha/2} \\sqrt{\\frac{n}{n-1}\\frac{\\hat \\sigma^2}{\\sum^n_{i=1}x_i^2}}\\right]$"
   ]
  }
 ],
 "metadata": {
  "kernelspec": {
   "display_name": "Python 3 (ipykernel)",
   "language": "python",
   "name": "python3"
  },
  "language_info": {
   "codemirror_mode": {
    "name": "ipython",
    "version": 3
   },
   "file_extension": ".py",
   "mimetype": "text/x-python",
   "name": "python",
   "nbconvert_exporter": "python",
   "pygments_lexer": "ipython3",
   "version": "3.9.12"
  }
 },
 "nbformat": 4,
 "nbformat_minor": 5
}
