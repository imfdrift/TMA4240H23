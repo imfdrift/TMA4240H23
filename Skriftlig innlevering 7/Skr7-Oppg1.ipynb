{
 "cells": [
  {
   "cell_type": "markdown",
   "id": "d4f761cc-9fea-44e5-8f5b-ac30f98e82ee",
   "metadata": {},
   "source": [
    "# Skriftlig innlevering 7, Oppgave 1 (av 3)\n",
    "\n",
    "I denne oppgaven skal du benytte stokastisk simulering til å utforske hvordan et residualplott ser ut når modellen som antas i enkel lineær regresjon er korrekt og hvordan residualplott ser ut i noen tilfeller hvor den antatte modellen ikke er korrekt.\n",
    "\n",
    "Vi skal starte med å anta følgende modell. For $i=1,2,\\ldots,n$ la\n",
    "\n",
    "$y_i = 0.5 + 0.25 x_i + \\varepsilon_i$,\n",
    "\n",
    "der $\\varepsilon_1,\\varepsilon_2,\\ldots,\\varepsilon_n$ er uavhengige og normalfordelte med forventningsverdi lik null og varians lik $0.25^2$. Her er altså modellen som antas i enkel lineær regresjon korrekt, og parameterverdiene er $\\alpha=0.5$, $\\beta=0.25$ og $\\sigma=0.25$.\n",
    "\n",
    "Python-koden under simulerer først verdier for $x_1,x_2,\\ldots,x_n$ for $n=25$ ved å trekke verdier fra en normalfordeling med forventningsverdi lik null og standardavvik lik $2$. Deretter genereres verdier for $y_1,y_2,\\ldots,y_n$ ifølge modellen formulert over. De genererte verdiene visuliseres så i et spredningsplott."
   ]
  },
  {
   "cell_type": "code",
   "execution_count": null,
   "id": "d8130422-2970-4891-aca2-09709f476a8e",
   "metadata": {},
   "outputs": [],
   "source": [
    "# Du trenger ikke endre noe i denne koden!\n",
    "\n",
    "import numpy as np\n",
    "#from scipy.stats import norm\n",
    "import matplotlib.pyplot as plt\n",
    "\n",
    "#Initialisering av parameterverdier\n",
    "n = 25\n",
    "alpha = 0.5\n",
    "beta = 0.25\n",
    "sigma = 0.25\n",
    "\n",
    "#Simulering av data etter modell\n",
    "x = np.random.normal(loc=0,scale=2,size=n) # trekker x_1,x_2,...,x_n\n",
    "y = alpha + beta * x + np.random.normal(loc=0,scale=sigma,size=n) # genererer tilhørende verdier for y_i\n",
    "\n",
    "#Visualiserer resultatet i et plott\n",
    "plt.plot(x,y,'bo')\n",
    "plt.xlabel('x')\n",
    "plt.ylabel('y')\n",
    "plt.show()"
   ]
  },
  {
   "cell_type": "markdown",
   "id": "9ed3bb11-96f9-41d7-86e4-295dc1169817",
   "metadata": {},
   "source": [
    "Under er det gitt en python-funksjon som tar vektorer $x$ og $y$ som input og regner ut estimatene $\\hat{\\alpha}$, $\\hat{\\beta}$ og $S^2$ i en enkel lineær regresjonsmodell. Dette er tilsvarende metode som ble gjort i skriftlig innlevering 6, bare nå med et konstantledd (SME for lineærregresjon)."
   ]
  },
  {
   "cell_type": "code",
   "execution_count": null,
   "id": "3bac8048-5b3e-4ad8-b5d0-a7605652e7a3",
   "metadata": {},
   "outputs": [],
   "source": [
    "# Du trenger ikke endre noe i denne koden!\n",
    "\n",
    "def estimerELR(x,y):\n",
    "    #Beregner gjennomsnitt\n",
    "    xStrek = np.mean(x)\n",
    "    yStrek = np.mean(y)\n",
    "    #Estimater for parametere\n",
    "    betaHat = np.sum((x-xStrek)*y)/np.sum((x-xStrek)**2)\n",
    "    alphaHat = yStrek - betaHat * xStrek\n",
    "    S2 = np.sum((y-(alphaHat+betaHat*x))**2)/(len(x)-2)\n",
    "    #Returnerer resultatet i en liste\n",
    "    return [alphaHat,betaHat,S2]\n",
    "\n",
    "paramHat = estimerELR(x,y)\n",
    "print('alphaHat: ',paramHat[0])\n",
    "print('betaHat: ',paramHat[1])\n",
    "print('s2: ',paramHat[2])     "
   ]
  },
  {
   "cell_type": "markdown",
   "id": "e9f64c2a-4c72-4313-a481-61418cf55657",
   "metadata": {},
   "source": [
    "### Deloppgave a)"
   ]
  },
  {
   "cell_type": "markdown",
   "id": "ebd9bc39-3913-498e-9066-6634615ffe1f",
   "metadata": {},
   "source": [
    "Kjør de to bitene med python-kode gitt over. Betrakt nå de genererte $x$ og $y$-verdiene som observerte verdier, og skriv under python-kode som regner ut de resulterende (estimerte) residualene. Lag også et residualplott hvor du plotter $x_i$-verdiene langs $x$-aksen og de (estimerte) residualene langs $y$-aksen. \n",
    "\n",
    "Kjør gjerne (alle de tre) pythonkodebitene flere ganger slik at du får et inntrykk av hvordan residualplottet varierer for ulike datasett (generert fra den spesifiserte regresjonsmodellen). Diskuter kort hva du ser (eller ikke kan se) i residualplottene."
   ]
  },
  {
   "cell_type": "code",
   "execution_count": null,
   "id": "742b3edb-c965-44f7-a125-29181409f108",
   "metadata": {},
   "outputs": [],
   "source": [
    "# Her kan du skrive din python-kode\n",
    "\n"
   ]
  },
  {
   "cell_type": "markdown",
   "id": "b47e1b92-6017-44d3-9d13-9f6bcf450f50",
   "metadata": {},
   "source": [
    "#### Her er deloppgave a) slutt.\n",
    "\n",
    "Du skal så utforske hvordan et residualplott kan bli seende ut når modellen som antas i enkel lineær regresjon ikke er korrekt. For å gjøre dette skal du først generere $x$-verdier ved å trekke verdier fra samme fordeling som gjort over. Deretter skal du generere $y$-verdier ifølge\n",
    "\n",
    "$y_i = 0.5 + 0.25 x_i + 0.02 x_i^2 + \\varepsilon_i,$\n",
    "\n",
    "der $\\varepsilon_1,\\varepsilon_2,\\ldots,\\varepsilon_n$ er uavhengige og normalfordelte med forventningsverdi null og varians lik $0.10^2$."
   ]
  },
  {
   "cell_type": "markdown",
   "id": "d62f9bff-c29c-4b66-9ed0-24cb7ead8fd0",
   "metadata": {},
   "source": [
    "### Deloppgave b)\n",
    "\n",
    "\n",
    "Skriv python-kode som genererer $n=25$ par $(x_i,y_i)$ som beskrevet over. Betrakt så disse simulerte dataene som observerte data og tilpass en enkel lineær regresjonsmodell ved å kalle python-funksjonen estimerELR gitt over. Regn så ut (estimerte) residualer og generer residualplott. \n",
    "\n",
    "Kjør gjerne python-koden flere ganger slik at du får et inntrykk av hvordan residualplottet varierer for ulike datasett (generert fra den spesifiserte modellen). Diskuter kort hva du ser (eller ikke kan se) i residualplottene."
   ]
  },
  {
   "cell_type": "code",
   "execution_count": null,
   "id": "8e885a24-2d6d-47ec-a992-2cbd596eec0e",
   "metadata": {},
   "outputs": [],
   "source": [
    "# Her kan du skrive din python-kode\n",
    "\n"
   ]
  },
  {
   "cell_type": "markdown",
   "id": "125b0cb7-ff80-4021-abe9-2abfaae5e555",
   "metadata": {},
   "source": [
    "#### Her er deloppgave b) slutt.\n",
    "\n",
    "Du skal så utforske hvordan residualplottet blir seende ut for en annen modell som avviker fra hva som antas i en enkel lineær regresjonsmodell. Genererer igjen $x_i$-verdier på samme måte som over. Genererer deretter $y_i$-verdier ifølge\n",
    "\n",
    "$y_i = 0.5 + 0.25 x_i + \\varepsilon_i,$\n",
    "\n",
    "der $\\varepsilon_1,\\varepsilon_2,\\ldots,\\varepsilon_n$ er uavhengige og $\\varepsilon_i\\sim N(0,0.10^2\\cdot(0.1+x_i^2))$\n"
   ]
  },
  {
   "cell_type": "markdown",
   "id": "b721c7ce-27fe-42ee-8133-76023fe0f355",
   "metadata": {},
   "source": [
    "### Deloppgave c)\n",
    "\n",
    "Skriv og kjørpython-kode som simulerer $x$- og $y$-verdier som beskrevet over, og så bruker disse tilsvarende som i oppgave b) over til å generere tilhørende residualplott. \n",
    "\n",
    "Kjør gjerne python-koden flere ganger slik at du får et inntrykk av hvordan residualplottet varierer for ulike datasett (generert fra den spesifiserte modellen). Diskuter kort hva du ser (eller ikke kan se) i residualplottene."
   ]
  },
  {
   "cell_type": "code",
   "execution_count": null,
   "id": "c93c8421-b7b9-4a5e-b183-32709f20ef9d",
   "metadata": {},
   "outputs": [],
   "source": [
    "# Her kan du skrive din python-kode\n",
    "\n"
   ]
  }
 ],
 "metadata": {
  "kernelspec": {
   "display_name": "Python 3 (ipykernel)",
   "language": "python",
   "name": "python3"
  },
  "language_info": {
   "codemirror_mode": {
    "name": "ipython",
    "version": 3
   },
   "file_extension": ".py",
   "mimetype": "text/x-python",
   "name": "python",
   "nbconvert_exporter": "python",
   "pygments_lexer": "ipython3",
   "version": "3.9.12"
  }
 },
 "nbformat": 4,
 "nbformat_minor": 5
}
