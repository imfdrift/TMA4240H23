{
 "cells": [
  {
   "cell_type": "markdown",
   "id": "a5b1f179",
   "metadata": {},
   "source": [
    "# Velkommen til TMA4240 sin Jupyter Hub"
   ]
  },
  {
   "cell_type": "markdown",
   "id": "2c4c55c2",
   "metadata": {},
   "source": [
    "Her vil du få tilgang til skriftlige innleveringer i emnet.\n",
    "\n",
    "Tips om hvordan bruke notatbøkene/hub-en: \n",
    "1. Ved å endre navn på filen så kan du få en egen versjon av notatboken, mens den originale (vår versjon) vil dukke opp på nytt hos deg.\n",
    "2. Test"
   ]
  }
 ],
 "metadata": {
  "kernelspec": {
   "display_name": "Python 3 (ipykernel)",
   "language": "python",
   "name": "python3"
  },
  "language_info": {
   "codemirror_mode": {
    "name": "ipython",
    "version": 3
   },
   "file_extension": ".py",
   "mimetype": "text/x-python",
   "name": "python",
   "nbconvert_exporter": "python",
   "pygments_lexer": "ipython3",
   "version": "3.9.12"
  }
 },
 "nbformat": 4,
 "nbformat_minor": 5
}
