{
 "cells": [
  {
   "cell_type": "markdown",
   "id": "a5b1f179",
   "metadata": {},
   "source": [
    "# Velkommen til TMA4240 sin Jupyter Hub"
   ]
  },
  {
   "cell_type": "markdown",
   "id": "2c4c55c2",
   "metadata": {},
   "source": [
    "Du er nå inne i **Jupyter-huben** til emnet TMA4240/TMA4245 - en server der Python, Pythonpakker og Jupyter-notatbok-programvare er installert. \n",
    "\n",
    "Til venstre vil det hver andre uke dukke opp en mappe med filer for skriftlige innleveringer. Disse filene er såkalte **Jupyter notatbøker** - en digital notatbok der vi blander Python-kode, resultatene vi får fra å kjøre koden, og helt vanlig tekst. \n",
    "\n",
    "Du kan bruke og endre filene vi har laget til deg - dette er din kopi av våre filer. Du kan også lage nye mapper og filer så mye du vil. Hvis du logger ut (eller lukker nettleservinduet) så forsvinner selvfølgelig **ikke** filene dine. \n",
    "\n",
    "Hvis du har klusset det til i en av filene som *vi* har laget, og har lyst til å se hva filen opprinnelig inneholdt, så er det enklest at du endrer navn på filen (der du har klusset til ting) og logger ut ved å lukke vinduet i nettleseren, da vil vår originale fil lastes inn på nytt når du åpner huben og logger inn på nytt. Istedenfor å endre navn på fila (som var klusset til) så kan du også slette den og logge ut - og da vil vår originale fil lastes inn på nytt når du åpner huben igjen.\n"
   ]
  },
  {
   "cell_type": "markdown",
   "id": "a78b61bb",
   "metadata": {},
   "source": [
    "## Et lite eksempel\n",
    "\n",
    "Teksten du leser her er i såkalt markdown format. Dobbelklikk på denne teksten og du kommer i redigeringsmodus. Du har nå lov til å redigere teksten i denne *cellen*. Se øverst i verktøylinja at det står \"Markdown\". Du kan jo for eksempel skrive navnet ditt her: Thea\n",
    "​\n",
    "**For å \"kjøre\" cellen trykker du på play-knappen i verktøylinja, eller shift-enter**.\n",
    "\n"
   ]
  },
  {
   "cell_type": "code",
   "execution_count": null,
   "id": "638ed408",
   "metadata": {},
   "outputs": [],
   "source": [
    "#Alle notatbøker vil ha en slik type celle på toppen. Denne MÅ kjøres før noe annen kode, da den \n",
    "#importerer bibliotek vi vil trenge for å kjøre koden. Det er altså slik at du ikke selv trenger \n",
    "#importere noen bibliotek selv, men bruke funksjoner fra de pakkene vi sier skal importeres.\n",
    "#Man kan IKKE laste ned egne bibliotek her på jupyter hub-en. Alle oppgaver skal kunne løses med pakkene\n",
    "#vi har importert. \n",
    "#Hvis du ønsker å løse oppgavene på en alternativ måte (ikke anbefalt, veiledning vil kun gis med gitte pakker),\n",
    "# så må du laste ned notatbøkene på egen pc og bruke bibliotek du selv har lastet ned lokalt.\n",
    "import numpy as np\n",
    "import scipy as sp\n",
    "import matplotlib.pyplot as plt"
   ]
  },
  {
   "cell_type": "markdown",
   "id": "dc6b769b",
   "metadata": {},
   "source": [
    "I den neste cellen med kode har vi laget en liten liste med tall. Vi har kalt listen for x. Vi har også skrevet en kode-linje for å regne ut gjennomsnittet (engelsk mean) av tallene i lista. Prøv å kjøre koden i cellen!\n",
    "\n",
    "(Husk at du *må* ha importert numpy (altså, kjørt cellen over) for at koden under skal fungere)"
   ]
  },
  {
   "cell_type": "code",
   "execution_count": null,
   "id": "8f15ba90",
   "metadata": {},
   "outputs": [],
   "source": [
    "x = np.array([8.0, 1.3, 2.5, 4.2, 28.0])\n",
    "\n",
    "np.mean(x)"
   ]
  }
 ],
 "metadata": {
  "kernelspec": {
   "display_name": "Python 3 (ipykernel)",
   "language": "python",
   "name": "python3"
  },
  "language_info": {
   "codemirror_mode": {
    "name": "ipython",
    "version": 3
   },
   "file_extension": ".py",
   "mimetype": "text/x-python",
   "name": "python",
   "nbconvert_exporter": "python",
   "pygments_lexer": "ipython3",
   "version": "3.9.12"
  }
 },
 "nbformat": 4,
 "nbformat_minor": 5
}
