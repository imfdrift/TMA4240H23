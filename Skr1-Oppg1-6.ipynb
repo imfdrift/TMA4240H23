{
 "cells": [
  {
   "cell_type": "markdown",
   "id": "d45235cc-9600-4091-9259-0a42122e1c69",
   "metadata": {},
   "source": [
    "# Skriftlig innlevering 1, Oppgave 1-6 (av 8)"
   ]
  },
  {
   "cell_type": "markdown",
   "id": "63a74b7b-f03c-4c04-99a0-caf7109a2992",
   "metadata": {},
   "source": [
    "\n",
    "\n",
    "## Oppgave 1 *"
   ]
  },
  {
   "cell_type": "markdown",
   "id": "4238ebd0-eb7c-4e57-8316-b2a6803aca47",
   "metadata": {},
   "source": [
    "La $A$, $B$ og $C$ være hendelser i et utfallsrom $S$. Vis ved hjelp av venndiagram at vi da har at:\n"
   ]
  },
  {
   "cell_type": "markdown",
   "id": "0831b147-323e-48eb-85df-cff4f039a7e4",
   "metadata": {},
   "source": [
    "\\begin{align*}\n",
    "        (A\\cup B)\\cup C &= A\\cup (B\\cup C)\\\\\n",
    "        (A\\cap B)\\cap C &= A\\cap (B\\cap C)\\\\[0.2cm]\n",
    "        (A\\cup B)\\setminus C &= (A\\setminus C) \\cup (B\\setminus C)\\\\\n",
    "        (A\\cap B)\\setminus C &= (A\\setminus C) \\cap (B\\setminus C)\\\\[0.2cm]\n",
    "        (A\\cup B)^\\prime &= A^\\prime \\cap B^\\prime\\\\\n",
    "        (A\\cap B)^\\prime &= A^\\prime \\cup B^\\prime\\\\\n",
    "    \\end{align*}"
   ]
  },
  {
   "cell_type": "markdown",
   "id": "e8dd23fe-f458-4652-b11b-e348c4ac910b",
   "metadata": {
    "tags": []
   },
   "source": [
    "## Oppgave 2 *\n",
    "\n"
   ]
  },
  {
   "cell_type": "markdown",
   "id": "6a373f2b-c667-45f4-bd11-7be3cec4c566",
   "metadata": {},
   "source": [
    "Anta at vi har en urne med $34$ kuler. Av disse $34$ kulene er sju kuler røde og resten blå. Anta at vi\n",
    "  tilfeldig trekker ut sju av de $34$ kulene, uten tilbakelegging.\n",
    "\n",
    "  * Hva er sannsynligheten for at alle de sju kulene vi trekker ut er røde?\n",
    "  * Hva er sannsynligheten for at nøyaktig fire av de sju kulene vi trekker ut er røde?\n",
    "  \n",
    "Anta så at vi etter å ha trukket ut sju kuler fra urna, trekker ut enda ei kule tilfeldig blant de $27$\n",
    "kulene som er igjen i urna. Denne siste kula kaller vi ekstrakule.\n",
    "\n",
    "  * Hva er sannsynligheten for at nøyaktig seks av de sju kulene vi først trakk ut er røde og at også\n",
    "    ekstrakula er rød?\n"
   ]
  },
  {
   "cell_type": "markdown",
   "id": "6b2a31e0-531d-4c03-abe7-b5ec07dee9d4",
   "metadata": {},
   "source": [
    "## Oppgave 3"
   ]
  },
  {
   "cell_type": "markdown",
   "id": "fcda9b74-e9d6-446b-b0e0-75252a6e11ae",
   "metadata": {},
   "source": [
    "La $A$, $B$ og $C$ være hendelser i et utfallsrom $S$, med $P(A)=0.4$, $P(B)=0.3$, $P(C)=0.3$, $P(A\\cup B)=0.6$, $P(A\\cup C) = 0.5$, $P(B\\cup C) = 0.6$ og $P(A\\cup B\\cup C) = 0.7$.\n",
    "\n",
    "  * Finn sannsynlighetene $P(A\\cap B)$, $P(A\\cap B\\cap C)$ og $P(A|B)$.\n",
    "  * Er hendelsene A og B uavhengige? \n",
    "  * Er hendelsene A og B disjunkte?"
   ]
  },
  {
   "cell_type": "markdown",
   "id": "984c04c5-b706-4ebb-bfde-f5ce5118e690",
   "metadata": {},
   "source": [
    "## Oppgave 4"
   ]
  },
  {
   "cell_type": "markdown",
   "id": "4f808b1d-85df-4616-9c1f-cbe633409a89",
   "metadata": {},
   "source": [
    "I en befolkning er $8\\%$ av mennene og $0.3\\%$ av kvinnene fargeblinde. I en gruppe\n",
    "  personer fra denne befolkningen er det dobbelt så mange kvinner som menn. En person som trekkes\n",
    "  tilfeldig fra denne gruppen viser seg å være fargeblind.\n",
    "\n",
    "  * Hva er sannsynligheten for at denne personen er ei kvinne?\n"
   ]
  },
  {
   "cell_type": "markdown",
   "id": "34a71cdd-072b-48d1-828c-e6cfe19ea234",
   "metadata": {},
   "source": [
    "## Oppgave 5"
   ]
  },
  {
   "cell_type": "markdown",
   "id": "91748865-bab8-425f-a49a-a39575208738",
   "metadata": {},
   "source": [
    "I et lotteri er det $300$ lodd. Tre av loddene gir en gevinst av type $A$ og tre andre lodd gir en\n",
    "  gevinst av type $B$. De ørige 294 loddene gir ingen gevinst. Ola kjøper fem lodd som han \n",
    "    trekker tilfeldig blant de $300$ loddene.\n",
    "\n",
    "  * Hva er sannsynligheten for at Ola vinner nøyaktig en gevinst av type A?\n",
    "  * Hva er sannsynligheten for at Ola vinner minst en gevinst av type A?\n",
    "  * Hva er sannsynligheten for at Ola vinner (minst en gevinst)?\n",
    "  * Ola forteller at han har vunnet (minst en gevinst). Hva er da sannsynligheten for at han har vunnet\n",
    "    minst en gevinst av type A?\n"
   ]
  },
  {
   "cell_type": "markdown",
   "id": "6f021be7-f2e9-470a-a4ed-f6955e8a73db",
   "metadata": {},
   "source": [
    "## Oppgave 6"
   ]
  },
  {
   "cell_type": "markdown",
   "id": "058344ad-88ee-40f0-a042-a8504e003256",
   "metadata": {},
   "source": [
    "La $X$ være en diskret fordelt stokastisk variabel med punktsannsynlighet $f(x)=P(X=x)$ som angitt\n",
    "i følgende tabell.\n",
    "\n",
    "\n",
    "| $x$ |  | $f(x)$ |\n",
    "|:---:|----|:------:|\n",
    "| $0$ |  | $0.05$ |\n",
    "| $1$ |  | $0.10$ |\n",
    "| $2$ |  | $0.25$ |\n",
    "| $3$ |  | $0.40$ |\n",
    "| $4$ |  | $0.15$ |\n",
    "| $5$ |  | $0.05$ |\n",
    "  \n",
    "   * Kjør python-koden under for å generere et stolpediagram for $f(x)$. <em>Merk: Studer hvilke funksjoner som benyttes slik at du kan skrive lignende kode selv senere.</em>\n"
   ]
  },
  {
   "cell_type": "code",
   "execution_count": null,
   "id": "09f245e4-7557-42b0-8b5d-1600842b58a0",
   "metadata": {},
   "outputs": [],
   "source": [
    "#UTLEVERT KODE (ingenting her skal endres) \n",
    "\n",
    "import numpy as np\n",
    "import matplotlib.pyplot as plt\n",
    "\n",
    "#utfallsrom\n",
    "x=np.arange(6)\n",
    "#punktsannsynlighet\n",
    "f_x = np.array([0.05,0.10,0.25,0.40,0.15,0.05])\n",
    "#stolpediagram\n",
    "plt.bar(x, f_x)\n",
    "plt.xlabel(\"x\")\n",
    "plt.ylabel(\"f(x)\")  \n",
    "plt.title(\"Stolpediagram for f(x)\") \n",
    "plt.show()"
   ]
  },
  {
   "cell_type": "markdown",
   "id": "1210102a-f611-4262-9609-4729058582cb",
   "metadata": {},
   "source": [
    "   * Bestem sannsynlighetene $P(X\\leq 2)$, $P(X\\leq 2|X<4)$ og $P(X\\leq 2|X\\geq 1)$.\n",
    "   * Finn kumulativ fordelingsfunksjon for $X$, $F(x)=P(X\\leq x)$. (Husk at $F(x)$ er definert for alle $x\\in\\mathbb{R}$.)\n",
    "   * Kjør python-koden under for å generere et plott av $F(x)$. <em>Merk: Studer hvilke funksjoner som benyttes slik at du kan skrive lignende kode selv senere.</em>"
   ]
  },
  {
   "cell_type": "code",
   "execution_count": null,
   "id": "f845ebc2-d9cd-4dfc-ae4a-a81359bb54fd",
   "metadata": {},
   "outputs": [],
   "source": [
    "#UTLEVERT KODE (ingenting her skal endres) \n",
    "\n",
    "import numpy as np\n",
    "import matplotlib.pyplot as plt\n",
    "\n",
    "# sett x-verdier og beregn tilhørende F(x)\n",
    "x = [-1,0]\n",
    "F_x = [0,0]\n",
    "\n",
    "for i in np.arange(5+1):    # for-løkke over verdiene 0,1,2,3,4,5\n",
    "    x = x + [i,i+1]\n",
    "    FF = np.sum(f_x[np.arange(i+1)])   # verdien til F(i)\n",
    "    F_x = F_x + [FF,FF]\n",
    "\n",
    "# lag plott av F(x)\n",
    "plt.plot(x, F_x, color=\"red\") \n",
    "plt.xlabel(\"x\")\n",
    "plt.ylabel(\"F(x)\")\n",
    "plt.show()"
   ]
  },
  {
   "cell_type": "markdown",
   "id": "e0f23805-e1b6-43f7-ae2a-4d4875ab8088",
   "metadata": {},
   "source": [
    "## Fasit:\n",
    "* Oppgave 2: $0.0190, 1.30\\cdot 10^{-6}$\n",
    "* Oppgave 3: $0.1, 0, 1/3$\n",
    "* Oppgave 4: $0.0698$\n",
    "* Oppgave 5: $0.0487, 0.0493, 0.0967, 0.510$\n",
    "* Oppgave 6: $0.15, 0.375, 0.105$"
   ]
  }
 ],
 "metadata": {
  "kernelspec": {
   "display_name": "Python 3 (ipykernel)",
   "language": "python",
   "name": "python3"
  },
  "language_info": {
   "codemirror_mode": {
    "name": "ipython",
    "version": 3
   },
   "file_extension": ".py",
   "mimetype": "text/x-python",
   "name": "python",
   "nbconvert_exporter": "python",
   "pygments_lexer": "ipython3",
   "version": "3.9.12"
  }
 },
 "nbformat": 4,
 "nbformat_minor": 5
}
